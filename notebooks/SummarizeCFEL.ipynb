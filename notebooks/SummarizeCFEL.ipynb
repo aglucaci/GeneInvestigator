{
 "cells": [
  {
   "cell_type": "code",
   "execution_count": 1,
   "id": "d955970a-1a02-44e8-bbba-0adec7d18370",
   "metadata": {},
   "outputs": [],
   "source": [
    "import pandas as pd\n",
    "import numpy as np\n",
    "import os\n",
    "import json\n",
    "import altair as alt\n",
    "import numpy as np\n",
    "import glob"
   ]
  },
  {
   "cell_type": "code",
   "execution_count": 4,
   "id": "65bc2729-41c0-4a5e-8e7f-dd1d0468ceb8",
   "metadata": {},
   "outputs": [],
   "source": [
    "DATA_DIR = \"/Users/user/Documents/GeneInvestigator/results/BDNF/Recombinants\"\n",
    "\n",
    "CFEL_FILES = glob.glob(os.path.join(DATA_DIR, \"*.CFEL.json\"))\n",
    "pvalue_threshold = 0.1"
   ]
  },
  {
   "cell_type": "code",
   "execution_count": 5,
   "id": "2682bbf3-a04b-457c-ae7c-5c740b6f78e1",
   "metadata": {},
   "outputs": [
    {
     "data": {
      "text/plain": [
       "['/Users/user/Documents/GeneInvestigator/results/BDNF/Recombinants/BDNF_codons_RDP_recombinationFree.fas.Carnivora.CFEL.json',\n",
       " '/Users/user/Documents/GeneInvestigator/results/BDNF/Recombinants/BDNF_codons_RDP_recombinationFree.fas.Perissodactyla.CFEL.json',\n",
       " '/Users/user/Documents/GeneInvestigator/results/BDNF/Recombinants/BDNF_codons_RDP_recombinationFree.fas.Chiroptera.CFEL.json',\n",
       " '/Users/user/Documents/GeneInvestigator/results/BDNF/Recombinants/BDNF_codons_RDP_recombinationFree.fas.Primates.CFEL.json',\n",
       " '/Users/user/Documents/GeneInvestigator/results/BDNF/Recombinants/BDNF_codons_RDP_recombinationFree.fas.Artiodactyla.CFEL.json',\n",
       " '/Users/user/Documents/GeneInvestigator/results/BDNF/Recombinants/BDNF_codons_RDP_recombinationFree.fas.Glires.CFEL.json',\n",
       " '/Users/user/Documents/GeneInvestigator/results/BDNF/Recombinants/BDNF_codons_RDP_recombinationFree.fas.Eulipotyphla.CFEL.json']"
      ]
     },
     "execution_count": 5,
     "metadata": {},
     "output_type": "execute_result"
    }
   ],
   "source": [
    "CFEL_FILES"
   ]
  },
  {
   "cell_type": "code",
   "execution_count": null,
   "id": "33e3d4fb-f2cb-4fb7-a375-e22a571d2961",
   "metadata": {},
   "outputs": [],
   "source": [
    "def getRELAX_TR(JSON):\n",
    "    with open(JSON, \"r\") as in_d:\n",
    "        json_data = json.load(in_d)\n",
    "    return json_data[\"test results\"]\n",
    "\n",
    "def getRELAX_fits(JSON):\n",
    "    with open(JSON, \"r\") as in_d:\n",
    "        json_data = json.load(in_d)\n",
    "    return json_data[\"fits\"]"
   ]
  },
  {
   "cell_type": "code",
   "execution_count": null,
   "id": "b017af8b-65b8-4991-b612-05458d14c9a5",
   "metadata": {},
   "outputs": [],
   "source": [
    "# Main\n",
    "passedThreshold = []\n",
    "\n",
    "for file in CFEL_FILES:\n",
    "    pval = getRELAX_TR(file)[\"p-value\"]\n",
    "    if pval <= pvalue_threshold:\n",
    "        passedThreshold.append(file)\n",
    "        print(\"# Passed p-value threshold:\", file.split(\"/\")[-1])"
   ]
  }
 ],
 "metadata": {
  "kernelspec": {
   "display_name": "Python 3",
   "language": "python",
   "name": "python3"
  },
  "language_info": {
   "codemirror_mode": {
    "name": "ipython",
    "version": 3
   },
   "file_extension": ".py",
   "mimetype": "text/x-python",
   "name": "python",
   "nbconvert_exporter": "python",
   "pygments_lexer": "ipython3",
   "version": "3.7.11"
  }
 },
 "nbformat": 4,
 "nbformat_minor": 5
}
