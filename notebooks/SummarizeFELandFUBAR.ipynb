{
 "cells": [
  {
   "cell_type": "code",
   "execution_count": 1,
   "id": "d198285e-a5ed-485f-9331-e85526585487",
   "metadata": {},
   "outputs": [],
   "source": [
    "# See how many sites agree between FEL and FUBAR"
   ]
  },
  {
   "cell_type": "code",
   "execution_count": null,
   "id": "8aa01589-162a-4353-b6a1-bd4b7950f34e",
   "metadata": {},
   "outputs": [],
   "source": []
  }
 ],
 "metadata": {
  "kernelspec": {
   "display_name": "Python 3",
   "language": "python",
   "name": "python3"
  },
  "language_info": {
   "codemirror_mode": {
    "name": "ipython",
    "version": 3
   },
   "file_extension": ".py",
   "mimetype": "text/x-python",
   "name": "python",
   "nbconvert_exporter": "python",
   "pygments_lexer": "ipython3",
   "version": "3.7.11"
  }
 },
 "nbformat": 4,
 "nbformat_minor": 5
}
