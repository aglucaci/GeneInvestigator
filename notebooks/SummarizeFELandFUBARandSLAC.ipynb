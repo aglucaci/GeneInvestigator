{
 "cells": [
  {
   "cell_type": "code",
   "execution_count": 1,
   "id": "fd390926-c81d-4742-83c4-bcf7454b9fbf",
   "metadata": {},
   "outputs": [],
   "source": [
    "# See which sites agree"
   ]
  },
  {
   "cell_type": "code",
   "execution_count": null,
   "id": "8e1f6302-8d55-49c6-a19b-74e338fb5c1f",
   "metadata": {},
   "outputs": [],
   "source": []
  }
 ],
 "metadata": {
  "kernelspec": {
   "display_name": "Python 3",
   "language": "python",
   "name": "python3"
  },
  "language_info": {
   "codemirror_mode": {
    "name": "ipython",
    "version": 3
   },
   "file_extension": ".py",
   "mimetype": "text/x-python",
   "name": "python",
   "nbconvert_exporter": "python",
   "pygments_lexer": "ipython3",
   "version": "3.7.11"
  }
 },
 "nbformat": 4,
 "nbformat_minor": 5
}
