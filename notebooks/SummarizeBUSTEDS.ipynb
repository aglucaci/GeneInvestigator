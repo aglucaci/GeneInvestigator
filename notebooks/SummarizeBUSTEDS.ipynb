{
 "cells": [
  {
   "cell_type": "code",
   "execution_count": 14,
   "id": "checked-newspaper",
   "metadata": {},
   "outputs": [],
   "source": [
    "import pandas as pd\n",
    "import numpy as np\n",
    "import os\n",
    "import json\n",
    "import altair as alt\n",
    "import numpy as np"
   ]
  },
  {
   "cell_type": "code",
   "execution_count": 15,
   "id": "ethical-doubt",
   "metadata": {},
   "outputs": [],
   "source": [
    "#JSON_FILE = \"../results/TP53/TP53_codons.fasta.BUSTEDS.json\"\n",
    "JSON_FILE = \"../results/BDNF/Recombinants/BDNF_codons_RDP_recombinationFree.fas.BUSTEDS.json\"\n",
    "pvalueThreshold = 0.05"
   ]
  },
  {
   "cell_type": "code",
   "execution_count": 16,
   "id": "suspected-independence",
   "metadata": {},
   "outputs": [],
   "source": [
    "def getBUSTEDS_ER(json_file):\n",
    "    with open(json_file, \"r\") as in_d:\n",
    "        json_data = json.load(in_d)\n",
    "    return json_data[\"Evidence Ratios\"]\n",
    "#end method\n",
    "\n",
    "def getBUSTEDS_TestResults(json_file):\n",
    "    with open(json_file, \"r\") as in_d:\n",
    "        json_data = json.load(in_d)\n",
    "    return json_data[\"test results\"]\n",
    "#end method\n",
    "\n",
    "def getBUSTEDS_Fits(json_file):\n",
    "    with open(json_file, \"r\") as in_d:\n",
    "        json_data = json.load(in_d)\n",
    "    return json_data[\"fits\"]\n",
    "#end method"
   ]
  },
  {
   "cell_type": "markdown",
   "id": "0affbb1e",
   "metadata": {},
   "source": [
    "## ER Plots\n"
   ]
  },
  {
   "cell_type": "code",
   "execution_count": 18,
   "id": "enhanced-concrete",
   "metadata": {},
   "outputs": [
    {
     "ename": "KeyError",
     "evalue": "'unconstrained'",
     "output_type": "error",
     "traceback": [
      "\u001b[0;31m---------------------------------------------------------------------------\u001b[0m",
      "\u001b[0;31mKeyError\u001b[0m                                  Traceback (most recent call last)",
      "\u001b[0;32m<ipython-input-18-0f121318b4f4>\u001b[0m in \u001b[0;36m<module>\u001b[0;34m\u001b[0m\n\u001b[1;32m      1\u001b[0m \u001b[0mdata\u001b[0m      \u001b[0;34m=\u001b[0m \u001b[0mgetBUSTEDS_ER\u001b[0m\u001b[0;34m(\u001b[0m\u001b[0mJSON_FILE\u001b[0m\u001b[0;34m)\u001b[0m\u001b[0;34m\u001b[0m\u001b[0;34m\u001b[0m\u001b[0m\n\u001b[0;32m----> 2\u001b[0;31m \u001b[0mnum_sites\u001b[0m \u001b[0;34m=\u001b[0m  \u001b[0mlen\u001b[0m\u001b[0;34m(\u001b[0m\u001b[0mdata\u001b[0m\u001b[0;34m[\u001b[0m\u001b[0;34m\"unconstrained\"\u001b[0m\u001b[0;34m]\u001b[0m\u001b[0;34m[\u001b[0m\u001b[0;36m0\u001b[0m\u001b[0;34m]\u001b[0m\u001b[0;34m)\u001b[0m\u001b[0;34m\u001b[0m\u001b[0;34m\u001b[0m\u001b[0m\n\u001b[0m\u001b[1;32m      3\u001b[0m \u001b[0;34m\u001b[0m\u001b[0m\n\u001b[1;32m      4\u001b[0m \u001b[0mres\u001b[0m \u001b[0;34m=\u001b[0m \u001b[0;34m[\u001b[0m\u001b[0mx\u001b[0m\u001b[0;34m+\u001b[0m\u001b[0;36m1\u001b[0m \u001b[0;32mfor\u001b[0m \u001b[0mx\u001b[0m \u001b[0;32min\u001b[0m \u001b[0mrange\u001b[0m\u001b[0;34m(\u001b[0m\u001b[0mnum_sites\u001b[0m\u001b[0;34m)\u001b[0m\u001b[0;34m]\u001b[0m\u001b[0;34m\u001b[0m\u001b[0;34m\u001b[0m\u001b[0m\n\u001b[1;32m      5\u001b[0m \u001b[0mdata_tuples\u001b[0m \u001b[0;34m=\u001b[0m \u001b[0mlist\u001b[0m\u001b[0;34m(\u001b[0m\u001b[0mzip\u001b[0m\u001b[0;34m(\u001b[0m\u001b[0mres\u001b[0m\u001b[0;34m,\u001b[0m\u001b[0mdata\u001b[0m\u001b[0;34m[\u001b[0m\u001b[0;34m\"unconstrained\"\u001b[0m\u001b[0;34m]\u001b[0m\u001b[0;34m[\u001b[0m\u001b[0;36m0\u001b[0m\u001b[0;34m]\u001b[0m\u001b[0;34m)\u001b[0m\u001b[0;34m)\u001b[0m\u001b[0;34m\u001b[0m\u001b[0;34m\u001b[0m\u001b[0m\n",
      "\u001b[0;31mKeyError\u001b[0m: 'unconstrained'"
     ]
    }
   ],
   "source": [
    "data      = getBUSTEDS_ER(JSON_FILE)\n",
    "num_sites =  len(data[\"constrained\"][0])\n",
    "\n",
    "res = [x+1 for x in range(num_sites)]\n",
    "data_tuples = list(zip(res,data[\"constrained\"][0]))\n",
    "df = pd.DataFrame(data_tuples, columns=['Site','ER'])\n",
    "df[\"2ln(ER)\"] = 2 * np.log(df[\"ER\"])\n",
    "df"
   ]
  },
  {
   "cell_type": "code",
   "execution_count": null,
   "id": "spoken-korean",
   "metadata": {},
   "outputs": [],
   "source": [
    "#source = df[df[\"omega\"] < 10]\n",
    "source = df\n",
    "\n",
    "line = alt.Chart(source).mark_line().encode(\n",
    "    x='Site',\n",
    "    y='2ln(ER)', \n",
    ").properties(\n",
    "    width=800,\n",
    "    height=600)\n",
    "\n",
    "line"
   ]
  },
  {
   "cell_type": "markdown",
   "id": "d2a3d6d7",
   "metadata": {},
   "source": [
    "## Fits plots"
   ]
  },
  {
   "cell_type": "code",
   "execution_count": 19,
   "id": "3a34952d",
   "metadata": {},
   "outputs": [
    {
     "data": {
      "text/html": [
       "\n",
       "<div id=\"altair-viz-a31aa403f1a44fd8a7385604e33c8699\"></div>\n",
       "<script type=\"text/javascript\">\n",
       "  (function(spec, embedOpt){\n",
       "    let outputDiv = document.currentScript.previousElementSibling;\n",
       "    if (outputDiv.id !== \"altair-viz-a31aa403f1a44fd8a7385604e33c8699\") {\n",
       "      outputDiv = document.getElementById(\"altair-viz-a31aa403f1a44fd8a7385604e33c8699\");\n",
       "    }\n",
       "    const paths = {\n",
       "      \"vega\": \"https://cdn.jsdelivr.net/npm//vega@5?noext\",\n",
       "      \"vega-lib\": \"https://cdn.jsdelivr.net/npm//vega-lib?noext\",\n",
       "      \"vega-lite\": \"https://cdn.jsdelivr.net/npm//vega-lite@4.8.1?noext\",\n",
       "      \"vega-embed\": \"https://cdn.jsdelivr.net/npm//vega-embed@6?noext\",\n",
       "    };\n",
       "\n",
       "    function loadScript(lib) {\n",
       "      return new Promise(function(resolve, reject) {\n",
       "        var s = document.createElement('script');\n",
       "        s.src = paths[lib];\n",
       "        s.async = true;\n",
       "        s.onload = () => resolve(paths[lib]);\n",
       "        s.onerror = () => reject(`Error loading script: ${paths[lib]}`);\n",
       "        document.getElementsByTagName(\"head\")[0].appendChild(s);\n",
       "      });\n",
       "    }\n",
       "\n",
       "    function showError(err) {\n",
       "      outputDiv.innerHTML = `<div class=\"error\" style=\"color:red;\">${err}</div>`;\n",
       "      throw err;\n",
       "    }\n",
       "\n",
       "    function displayChart(vegaEmbed) {\n",
       "      vegaEmbed(outputDiv, spec, embedOpt)\n",
       "        .catch(err => showError(`Javascript Error: ${err.message}<br>This usually means there's a typo in your chart specification. See the javascript console for the full traceback.`));\n",
       "    }\n",
       "\n",
       "    if(typeof define === \"function\" && define.amd) {\n",
       "      requirejs.config({paths});\n",
       "      require([\"vega-embed\"], displayChart, err => showError(`Error loading script: ${err.message}`));\n",
       "    } else if (typeof vegaEmbed === \"function\") {\n",
       "      displayChart(vegaEmbed);\n",
       "    } else {\n",
       "      loadScript(\"vega\")\n",
       "        .then(() => loadScript(\"vega-lite\"))\n",
       "        .then(() => loadScript(\"vega-embed\"))\n",
       "        .catch(showError)\n",
       "        .then(() => displayChart(vegaEmbed));\n",
       "    }\n",
       "  })({\"config\": {\"view\": {\"continuousWidth\": 400, \"continuousHeight\": 300}}, \"data\": {\"name\": \"data-8e8d8bb8c7df4c51cd46378ff6346313\"}, \"mark\": \"bar\", \"encoding\": {\"color\": {\"type\": \"quantitative\", \"field\": \"omega\", \"scale\": {\"reverse\": false, \"scheme\": \"reds\"}}, \"x\": {\"type\": \"quantitative\", \"aggregate\": \"sum\", \"field\": \"proportion\"}, \"y\": {\"type\": \"quantitative\", \"field\": \"proportion\"}}, \"height\": 400, \"width\": 500, \"$schema\": \"https://vega.github.io/schema/vega-lite/v4.8.1.json\", \"datasets\": {\"data-8e8d8bb8c7df4c51cd46378ff6346313\": [{\"omega\": 0.04754637312470029, \"proportion\": 0.7668982057822865}, {\"omega\": 0.05350285006697091, \"proportion\": 0.1328940542792952}, {\"omega\": 1.0, \"proportion\": 0.1002077399384183}]}}, {\"mode\": \"vega-lite\"});\n",
       "</script>"
      ],
      "text/plain": [
       "alt.Chart(...)"
      ]
     },
     "execution_count": 19,
     "metadata": {},
     "output_type": "execute_result"
    }
   ],
   "source": [
    "# Unconstrained model\n",
    "\n",
    "data   = getBUSTEDS_Fits(JSON_FILE)\n",
    "df_Unc = pd.DataFrame.from_dict(data[\"Unconstrained model\"][\"Rate Distributions\"][\"Test\"], orient='index')\n",
    "\n",
    "source = df_Unc\n",
    "\n",
    "line = alt.Chart(source).mark_bar().encode(\n",
    "    x='sum(proportion)',\n",
    "    y='proportion',\n",
    "    color=alt.Color('omega', scale=alt.Scale(scheme='reds', reverse=False))\n",
    ").properties(\n",
    "    width=500,\n",
    "    height=400)\n",
    "\n",
    "line"
   ]
  },
  {
   "cell_type": "code",
   "execution_count": 25,
   "id": "31d1a908",
   "metadata": {},
   "outputs": [
    {
     "data": {
      "text/html": [
       "\n",
       "<div id=\"altair-viz-fcd83805f1af4b9aa1e090aae16cf41d\"></div>\n",
       "<script type=\"text/javascript\">\n",
       "  (function(spec, embedOpt){\n",
       "    let outputDiv = document.currentScript.previousElementSibling;\n",
       "    if (outputDiv.id !== \"altair-viz-fcd83805f1af4b9aa1e090aae16cf41d\") {\n",
       "      outputDiv = document.getElementById(\"altair-viz-fcd83805f1af4b9aa1e090aae16cf41d\");\n",
       "    }\n",
       "    const paths = {\n",
       "      \"vega\": \"https://cdn.jsdelivr.net/npm//vega@5?noext\",\n",
       "      \"vega-lib\": \"https://cdn.jsdelivr.net/npm//vega-lib?noext\",\n",
       "      \"vega-lite\": \"https://cdn.jsdelivr.net/npm//vega-lite@4.8.1?noext\",\n",
       "      \"vega-embed\": \"https://cdn.jsdelivr.net/npm//vega-embed@6?noext\",\n",
       "    };\n",
       "\n",
       "    function loadScript(lib) {\n",
       "      return new Promise(function(resolve, reject) {\n",
       "        var s = document.createElement('script');\n",
       "        s.src = paths[lib];\n",
       "        s.async = true;\n",
       "        s.onload = () => resolve(paths[lib]);\n",
       "        s.onerror = () => reject(`Error loading script: ${paths[lib]}`);\n",
       "        document.getElementsByTagName(\"head\")[0].appendChild(s);\n",
       "      });\n",
       "    }\n",
       "\n",
       "    function showError(err) {\n",
       "      outputDiv.innerHTML = `<div class=\"error\" style=\"color:red;\">${err}</div>`;\n",
       "      throw err;\n",
       "    }\n",
       "\n",
       "    function displayChart(vegaEmbed) {\n",
       "      vegaEmbed(outputDiv, spec, embedOpt)\n",
       "        .catch(err => showError(`Javascript Error: ${err.message}<br>This usually means there's a typo in your chart specification. See the javascript console for the full traceback.`));\n",
       "    }\n",
       "\n",
       "    if(typeof define === \"function\" && define.amd) {\n",
       "      requirejs.config({paths});\n",
       "      require([\"vega-embed\"], displayChart, err => showError(`Error loading script: ${err.message}`));\n",
       "    } else if (typeof vegaEmbed === \"function\") {\n",
       "      displayChart(vegaEmbed);\n",
       "    } else {\n",
       "      loadScript(\"vega\")\n",
       "        .then(() => loadScript(\"vega-lite\"))\n",
       "        .then(() => loadScript(\"vega-embed\"))\n",
       "        .catch(showError)\n",
       "        .then(() => displayChart(vegaEmbed));\n",
       "    }\n",
       "  })({\"config\": {\"view\": {\"continuousWidth\": 400, \"continuousHeight\": 300}}, \"layer\": [{\"mark\": \"bar\", \"encoding\": {\"color\": {\"type\": \"quantitative\", \"field\": \"omega\", \"scale\": {\"reverse\": false, \"scheme\": \"reds\"}}, \"x\": {\"type\": \"quantitative\", \"field\": \"omega\"}, \"y\": {\"type\": \"quantitative\", \"field\": \"proportion\"}}, \"height\": 400, \"width\": 800}, {\"mark\": {\"type\": \"text\", \"align\": \"left\", \"baseline\": \"middle\", \"color\": \"black\", \"dx\": 3}, \"encoding\": {\"color\": {\"type\": \"quantitative\", \"field\": \"omega\", \"scale\": {\"reverse\": false, \"scheme\": \"reds\"}}, \"text\": {\"type\": \"quantitative\", \"field\": \"proportion\"}, \"x\": {\"type\": \"quantitative\", \"field\": \"omega\"}, \"y\": {\"type\": \"quantitative\", \"field\": \"proportion\"}}, \"height\": 400, \"width\": 800}], \"data\": {\"name\": \"data-8e8d8bb8c7df4c51cd46378ff6346313\"}, \"$schema\": \"https://vega.github.io/schema/vega-lite/v4.8.1.json\", \"datasets\": {\"data-8e8d8bb8c7df4c51cd46378ff6346313\": [{\"omega\": 0.04754637312470029, \"proportion\": 0.7668982057822865}, {\"omega\": 0.05350285006697091, \"proportion\": 0.1328940542792952}, {\"omega\": 1.0, \"proportion\": 0.1002077399384183}]}}, {\"mode\": \"vega-lite\"});\n",
       "</script>"
      ],
      "text/plain": [
       "alt.LayerChart(...)"
      ]
     },
     "execution_count": 25,
     "metadata": {},
     "output_type": "execute_result"
    }
   ],
   "source": [
    "# Unconstrained model\n",
    "\n",
    "data   = getBUSTEDS_Fits(JSON_FILE)\n",
    "df_Unc = pd.DataFrame.from_dict(data[\"Unconstrained model\"][\"Rate Distributions\"][\"Test\"], orient='index')\n",
    "\n",
    "source = df_Unc\n",
    "\n",
    "bar = alt.Chart(source).mark_bar().encode(\n",
    "    x='omega',\n",
    "    y='proportion',\n",
    "    color=alt.Color('omega', scale=alt.Scale(scheme='reds', reverse=False))\n",
    ").properties(\n",
    "    width=800,\n",
    "    height=400)\n",
    "\n",
    "\n",
    "text = bar.mark_text(\n",
    "    align='left',\n",
    "    baseline='middle',\n",
    "    color='black',\n",
    "    dx=3  # Nudges text to right so it doesn't appear on top of the bar\n",
    ").encode(\n",
    "    text='proportion:Q'\n",
    ")\n",
    "\n",
    "bar + text\n",
    "\n",
    "#bar.save('Figure1_BUSTEDS.png')\n"
   ]
  },
  {
   "cell_type": "code",
   "execution_count": 24,
   "id": "e98d9601",
   "metadata": {},
   "outputs": [
    {
     "name": "stdout",
     "output_type": "stream",
     "text": [
      "{'LRT': 0, 'p-value': 0.5}\n",
      "\n",
      "BUSTEDS analysis did NOT find evidence (LRT, p-value > 0.05) of gene-wide episodic diversifying selection in the selected test branches of our phylogeny. \n"
     ]
    }
   ],
   "source": [
    "# Figure Legend\n",
    "\n",
    "result = getBUSTEDS_TestResults(JSON_FILE)\n",
    "print(result)\n",
    "\n",
    "result_response = \"\"\n",
    "\n",
    "if result[\"p-value\"] <= pvalueThreshold:\n",
    "    result_response = \"found evidence (LRT, p-value ≤ 0.05)\"\n",
    "else:\n",
    "    result_response = \"did NOT find evidence (LRT, p-value > 0.05)\"\n",
    "\n",
    "\n",
    "#msg = \"BUSTEDS found evidence \" + result_response + \" of gene-wide episodic diversifying selection in the selected test branches of your phylogeny.\"\n",
    "\n",
    "msg = \"BUSTEDS analysis \" + result_response + \" of gene-wide episodic diversifying selection in the selected test branches of our phylogeny. \"\n",
    "\n",
    "\n",
    "print(\"\\n\" + msg)"
   ]
  },
  {
   "cell_type": "code",
   "execution_count": null,
   "id": "996f61fe",
   "metadata": {},
   "outputs": [],
   "source": []
  },
  {
   "cell_type": "code",
   "execution_count": null,
   "id": "534db2ba",
   "metadata": {},
   "outputs": [],
   "source": []
  }
 ],
 "metadata": {
  "kernelspec": {
   "display_name": "Python 3",
   "language": "python",
   "name": "python3"
  },
  "language_info": {
   "codemirror_mode": {
    "name": "ipython",
    "version": 3
   },
   "file_extension": ".py",
   "mimetype": "text/x-python",
   "name": "python",
   "nbconvert_exporter": "python",
   "pygments_lexer": "ipython3",
   "version": "3.7.11"
  }
 },
 "nbformat": 4,
 "nbformat_minor": 5
}
