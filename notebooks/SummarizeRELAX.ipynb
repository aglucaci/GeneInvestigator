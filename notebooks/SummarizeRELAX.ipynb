{
 "cells": [
  {
   "cell_type": "code",
   "execution_count": 1,
   "id": "f3f53827-6ea8-487f-b0cf-f852cc74564c",
   "metadata": {},
   "outputs": [],
   "source": [
    "import pandas as pd\n",
    "import numpy as np\n",
    "import os\n",
    "import json\n",
    "import altair as alt\n",
    "import numpy as np\n",
    "import glob"
   ]
  },
  {
   "cell_type": "code",
   "execution_count": 6,
   "id": "e209071d-ad8b-45a9-a245-9ed0e5fe04e6",
   "metadata": {},
   "outputs": [],
   "source": [
    "DATA_DIR = \"/Users/user/Documents/GeneInvestigator/results/BDNF/Recombinants\"\n",
    "\n",
    "RELAX_FILES = glob.glob(os.path.join(DATA_DIR, \"*.RELAX.json\"))\n",
    "pvalue_threshold = 0.05"
   ]
  },
  {
   "cell_type": "code",
   "execution_count": 7,
   "id": "a8a50fd4-bef0-48a8-82d9-52fe70cf0409",
   "metadata": {},
   "outputs": [
    {
     "data": {
      "text/plain": [
       "['/Users/user/Documents/GeneInvestigator/results/BDNF/Recombinants/BDNF_codons_RDP_recombinationFree.fas.Carnivora.RELAX.json',\n",
       " '/Users/user/Documents/GeneInvestigator/results/BDNF/Recombinants/BDNF_codons_RDP_recombinationFree.fas.Artiodactyla.RELAX.json',\n",
       " '/Users/user/Documents/GeneInvestigator/results/BDNF/Recombinants/BDNF_codons_RDP_recombinationFree.fas.Chiroptera.RELAX.json',\n",
       " '/Users/user/Documents/GeneInvestigator/results/BDNF/Recombinants/BDNF_codons_RDP_recombinationFree.fas.Primates.RELAX.json',\n",
       " '/Users/user/Documents/GeneInvestigator/results/BDNF/Recombinants/BDNF_codons_RDP_recombinationFree.fas.Glires.RELAX.json',\n",
       " '/Users/user/Documents/GeneInvestigator/results/BDNF/Recombinants/BDNF_codons_RDP_recombinationFree.fas.Eulipotyphla.RELAX.json',\n",
       " '/Users/user/Documents/GeneInvestigator/results/BDNF/Recombinants/BDNF_codons_RDP_recombinationFree.fas.Perissodactyla.RELAX.json']"
      ]
     },
     "execution_count": 7,
     "metadata": {},
     "output_type": "execute_result"
    }
   ],
   "source": [
    "RELAX_FILES"
   ]
  },
  {
   "cell_type": "code",
   "execution_count": 8,
   "id": "5e5d9fd6-b14e-4301-afa5-e3d3c7fc6af0",
   "metadata": {},
   "outputs": [],
   "source": [
    "def getRELAX_TR(JSON):\n",
    "    with open(JSON, \"r\") as in_d:\n",
    "        json_data = json.load(in_d)\n",
    "    return json_data[\"test results\"]\n",
    "\n",
    "def getRELAX_fits(JSON):\n",
    "    with open(JSON, \"r\") as in_d:\n",
    "        json_data = json.load(in_d)\n",
    "    return json_data[\"fits\"]\n"
   ]
  },
  {
   "cell_type": "code",
   "execution_count": 18,
   "id": "413061f2-54a5-46c5-91d7-053337b3d309",
   "metadata": {},
   "outputs": [
    {
     "name": "stdout",
     "output_type": "stream",
     "text": [
      "# Passed p-value threshold: BDNF_codons_RDP_recombinationFree.fas.Carnivora.RELAX.json\n",
      "# Passed p-value threshold: BDNF_codons_RDP_recombinationFree.fas.Primates.RELAX.json\n",
      "# Passed p-value threshold: BDNF_codons_RDP_recombinationFree.fas.Eulipotyphla.RELAX.json\n"
     ]
    }
   ],
   "source": [
    "# Main\n",
    "passedThreshold = []\n",
    "\n",
    "for file in RELAX_FILES:\n",
    "    pval = getRELAX_TR(file)[\"p-value\"]\n",
    "    if pval <= pvalue_threshold:\n",
    "        passedThreshold.append(file)\n",
    "        print(\"# Passed p-value threshold:\", file.split(\"/\")[-1])\n"
   ]
  },
  {
   "cell_type": "code",
   "execution_count": 73,
   "id": "e4db0e44-1aef-4023-a5cf-8c502ae3b24b",
   "metadata": {},
   "outputs": [
    {
     "name": "stdout",
     "output_type": "stream",
     "text": [
      "Label: Eulipotyphla\n"
     ]
    },
    {
     "data": {
      "text/plain": [
       "dict_keys(['General descriptive', 'MG94xREV with separate rates for branch sets', 'Nucleotide GTR', 'RELAX alternative', 'RELAX null', 'RELAX partitioned descriptive'])"
      ]
     },
     "execution_count": 73,
     "metadata": {},
     "output_type": "execute_result"
    }
   ],
   "source": [
    "# Process them separately\n",
    "\n",
    "#TEST_FILE = \"/Users/user/Documents/GeneInvestigator/results/BDNF/Recombinants/BDNF_codons_RDP_recombinationFree.fas.Carnivora.RELAX.json\"\n",
    "#TEST_FILE = \"/Users/user/Documents/GeneInvestigator/results/BDNF/Recombinants/BDNF_codons_RDP_recombinationFree.fas.Primates.RELAX.json\"\n",
    "TEST_FILE = '/Users/user/Documents/GeneInvestigator/results/BDNF/Recombinants/BDNF_codons_RDP_recombinationFree.fas.Eulipotyphla.RELAX.json'\n",
    "\n",
    "label = TEST_FILE.split(\"/\")[-1].split(\".\")[2]\n",
    "print(\"Label:\", label)\n",
    "fits = getRELAX_fits(TEST_FILE)\n",
    "fits.keys()\n",
    "\n",
    "# print(fits[\"RELAX partitioned descriptive\"])"
   ]
  },
  {
   "cell_type": "code",
   "execution_count": 74,
   "id": "746d395c-06f6-4ff0-8605-e738615b5aae",
   "metadata": {},
   "outputs": [
    {
     "data": {
      "text/html": [
       "<div>\n",
       "<style scoped>\n",
       "    .dataframe tbody tr th:only-of-type {\n",
       "        vertical-align: middle;\n",
       "    }\n",
       "\n",
       "    .dataframe tbody tr th {\n",
       "        vertical-align: top;\n",
       "    }\n",
       "\n",
       "    .dataframe thead th {\n",
       "        text-align: right;\n",
       "    }\n",
       "</style>\n",
       "<table border=\"1\" class=\"dataframe\">\n",
       "  <thead>\n",
       "    <tr style=\"text-align: right;\">\n",
       "      <th></th>\n",
       "      <th>General descriptive</th>\n",
       "      <th>MG94xREV with separate rates for branch sets</th>\n",
       "      <th>Nucleotide GTR</th>\n",
       "      <th>RELAX alternative</th>\n",
       "      <th>RELAX null</th>\n",
       "      <th>RELAX partitioned descriptive</th>\n",
       "    </tr>\n",
       "  </thead>\n",
       "  <tbody>\n",
       "    <tr>\n",
       "      <th>AIC-c</th>\n",
       "      <td>28189.340578</td>\n",
       "      <td>28889.487503</td>\n",
       "      <td>30929.613123</td>\n",
       "      <td>28126.233245</td>\n",
       "      <td>28136.38249</td>\n",
       "      <td>28132.656357</td>\n",
       "    </tr>\n",
       "    <tr>\n",
       "      <th>Log Likelihood</th>\n",
       "      <td>-13577.18239</td>\n",
       "      <td>-14180.567018</td>\n",
       "      <td>-15195.397457</td>\n",
       "      <td>-13794.903809</td>\n",
       "      <td>-13800.987503</td>\n",
       "      <td>-13794.078738</td>\n",
       "    </tr>\n",
       "    <tr>\n",
       "      <th>Rate Distributions</th>\n",
       "      <td>{'Shared': {'0': {'omega': 6.057267936146019e-...</td>\n",
       "      <td>{'non-synonymous/synonymous rate ratio for *Re...</td>\n",
       "      <td>{'Substitution rate from nucleotide A to nucle...</td>\n",
       "      <td>{'Reference': {'0': {'omega': 5.48720376094430...</td>\n",
       "      <td>{'Reference': {'0': {'omega': 0.02288401406824...</td>\n",
       "      <td>{'Reference': {'0': {'omega': 0.01943261683843...</td>\n",
       "    </tr>\n",
       "    <tr>\n",
       "      <th>display order</th>\n",
       "      <td>4</td>\n",
       "      <td>1</td>\n",
       "      <td>0</td>\n",
       "      <td>2</td>\n",
       "      <td>3</td>\n",
       "      <td>5</td>\n",
       "    </tr>\n",
       "    <tr>\n",
       "      <th>estimated parameters</th>\n",
       "      <td>513</td>\n",
       "      <td>263</td>\n",
       "      <td>269</td>\n",
       "      <td>267</td>\n",
       "      <td>266</td>\n",
       "      <td>271</td>\n",
       "    </tr>\n",
       "    <tr>\n",
       "      <th>Equilibrium frequencies</th>\n",
       "      <td>NaN</td>\n",
       "      <td>[[0.01795196462709524], [0.03032011369858167],...</td>\n",
       "      <td>[[0.259677450432571], [0.2464594693539374], [0...</td>\n",
       "      <td>NaN</td>\n",
       "      <td>NaN</td>\n",
       "      <td>NaN</td>\n",
       "    </tr>\n",
       "  </tbody>\n",
       "</table>\n",
       "</div>"
      ],
      "text/plain": [
       "                                                       General descriptive  \\\n",
       "AIC-c                                                         28189.340578   \n",
       "Log Likelihood                                                -13577.18239   \n",
       "Rate Distributions       {'Shared': {'0': {'omega': 6.057267936146019e-...   \n",
       "display order                                                            4   \n",
       "estimated parameters                                                   513   \n",
       "Equilibrium frequencies                                                NaN   \n",
       "\n",
       "                              MG94xREV with separate rates for branch sets  \\\n",
       "AIC-c                                                         28889.487503   \n",
       "Log Likelihood                                               -14180.567018   \n",
       "Rate Distributions       {'non-synonymous/synonymous rate ratio for *Re...   \n",
       "display order                                                            1   \n",
       "estimated parameters                                                   263   \n",
       "Equilibrium frequencies  [[0.01795196462709524], [0.03032011369858167],...   \n",
       "\n",
       "                                                            Nucleotide GTR  \\\n",
       "AIC-c                                                         30929.613123   \n",
       "Log Likelihood                                               -15195.397457   \n",
       "Rate Distributions       {'Substitution rate from nucleotide A to nucle...   \n",
       "display order                                                            0   \n",
       "estimated parameters                                                   269   \n",
       "Equilibrium frequencies  [[0.259677450432571], [0.2464594693539374], [0...   \n",
       "\n",
       "                                                         RELAX alternative  \\\n",
       "AIC-c                                                         28126.233245   \n",
       "Log Likelihood                                               -13794.903809   \n",
       "Rate Distributions       {'Reference': {'0': {'omega': 5.48720376094430...   \n",
       "display order                                                            2   \n",
       "estimated parameters                                                   267   \n",
       "Equilibrium frequencies                                                NaN   \n",
       "\n",
       "                                                                RELAX null  \\\n",
       "AIC-c                                                          28136.38249   \n",
       "Log Likelihood                                               -13800.987503   \n",
       "Rate Distributions       {'Reference': {'0': {'omega': 0.02288401406824...   \n",
       "display order                                                            3   \n",
       "estimated parameters                                                   266   \n",
       "Equilibrium frequencies                                                NaN   \n",
       "\n",
       "                                             RELAX partitioned descriptive  \n",
       "AIC-c                                                         28132.656357  \n",
       "Log Likelihood                                               -13794.078738  \n",
       "Rate Distributions       {'Reference': {'0': {'omega': 0.01943261683843...  \n",
       "display order                                                            5  \n",
       "estimated parameters                                                   271  \n",
       "Equilibrium frequencies                                                NaN  "
      ]
     },
     "execution_count": 74,
     "metadata": {},
     "output_type": "execute_result"
    }
   ],
   "source": [
    "df = pd.DataFrame.from_dict(fits, orient='index')\n",
    "df.T"
   ]
  },
  {
   "cell_type": "code",
   "execution_count": 75,
   "id": "5158388c-2d1c-4836-831f-9559c5b03aeb",
   "metadata": {},
   "outputs": [
    {
     "data": {
      "text/html": [
       "<div>\n",
       "<style scoped>\n",
       "    .dataframe tbody tr th:only-of-type {\n",
       "        vertical-align: middle;\n",
       "    }\n",
       "\n",
       "    .dataframe tbody tr th {\n",
       "        vertical-align: top;\n",
       "    }\n",
       "\n",
       "    .dataframe thead th {\n",
       "        text-align: right;\n",
       "    }\n",
       "</style>\n",
       "<table border=\"1\" class=\"dataframe\">\n",
       "  <thead>\n",
       "    <tr style=\"text-align: right;\">\n",
       "      <th></th>\n",
       "      <th>omega</th>\n",
       "      <th>proportion</th>\n",
       "    </tr>\n",
       "  </thead>\n",
       "  <tbody>\n",
       "    <tr>\n",
       "      <th>0</th>\n",
       "      <td>0.019433</td>\n",
       "      <td>0.835757</td>\n",
       "    </tr>\n",
       "    <tr>\n",
       "      <th>1</th>\n",
       "      <td>0.449135</td>\n",
       "      <td>0.157988</td>\n",
       "    </tr>\n",
       "    <tr>\n",
       "      <th>2</th>\n",
       "      <td>141.510056</td>\n",
       "      <td>0.006255</td>\n",
       "    </tr>\n",
       "  </tbody>\n",
       "</table>\n",
       "</div>"
      ],
      "text/plain": [
       "        omega  proportion\n",
       "0    0.019433    0.835757\n",
       "1    0.449135    0.157988\n",
       "2  141.510056    0.006255"
      ]
     },
     "execution_count": 75,
     "metadata": {},
     "output_type": "execute_result"
    }
   ],
   "source": [
    "df2_Ref = pd.DataFrame.from_dict(fits[\"RELAX partitioned descriptive\"][\"Rate Distributions\"][\"Reference\"], orient='index')\n",
    "df2_Ref"
   ]
  },
  {
   "cell_type": "code",
   "execution_count": 76,
   "id": "a3f6918d-cf2c-4148-a651-b8299f7285a7",
   "metadata": {},
   "outputs": [
    {
     "data": {
      "text/html": [
       "<div>\n",
       "<style scoped>\n",
       "    .dataframe tbody tr th:only-of-type {\n",
       "        vertical-align: middle;\n",
       "    }\n",
       "\n",
       "    .dataframe tbody tr th {\n",
       "        vertical-align: top;\n",
       "    }\n",
       "\n",
       "    .dataframe thead th {\n",
       "        text-align: right;\n",
       "    }\n",
       "</style>\n",
       "<table border=\"1\" class=\"dataframe\">\n",
       "  <thead>\n",
       "    <tr style=\"text-align: right;\">\n",
       "      <th></th>\n",
       "      <th>omega</th>\n",
       "      <th>proportion</th>\n",
       "    </tr>\n",
       "  </thead>\n",
       "  <tbody>\n",
       "    <tr>\n",
       "      <th>0</th>\n",
       "      <td>0.102218</td>\n",
       "      <td>0.872006</td>\n",
       "    </tr>\n",
       "    <tr>\n",
       "      <th>1</th>\n",
       "      <td>0.667602</td>\n",
       "      <td>0.127994</td>\n",
       "    </tr>\n",
       "    <tr>\n",
       "      <th>2</th>\n",
       "      <td>12.103414</td>\n",
       "      <td>0.000000</td>\n",
       "    </tr>\n",
       "  </tbody>\n",
       "</table>\n",
       "</div>"
      ],
      "text/plain": [
       "       omega  proportion\n",
       "0   0.102218    0.872006\n",
       "1   0.667602    0.127994\n",
       "2  12.103414    0.000000"
      ]
     },
     "execution_count": 76,
     "metadata": {},
     "output_type": "execute_result"
    }
   ],
   "source": [
    "df3_Test = pd.DataFrame.from_dict(fits[\"RELAX partitioned descriptive\"][\"Rate Distributions\"][\"Test\"], orient='index')\n",
    "df3_Test"
   ]
  },
  {
   "cell_type": "code",
   "execution_count": 77,
   "id": "3a4c811e-8652-429a-94dd-02472270c9c1",
   "metadata": {},
   "outputs": [
    {
     "data": {
      "text/html": [
       "\n",
       "<div id=\"altair-viz-6b9a54e7bb3742909408bf5c60d0605c\"></div>\n",
       "<script type=\"text/javascript\">\n",
       "  (function(spec, embedOpt){\n",
       "    let outputDiv = document.currentScript.previousElementSibling;\n",
       "    if (outputDiv.id !== \"altair-viz-6b9a54e7bb3742909408bf5c60d0605c\") {\n",
       "      outputDiv = document.getElementById(\"altair-viz-6b9a54e7bb3742909408bf5c60d0605c\");\n",
       "    }\n",
       "    const paths = {\n",
       "      \"vega\": \"https://cdn.jsdelivr.net/npm//vega@5?noext\",\n",
       "      \"vega-lib\": \"https://cdn.jsdelivr.net/npm//vega-lib?noext\",\n",
       "      \"vega-lite\": \"https://cdn.jsdelivr.net/npm//vega-lite@4.8.1?noext\",\n",
       "      \"vega-embed\": \"https://cdn.jsdelivr.net/npm//vega-embed@6?noext\",\n",
       "    };\n",
       "\n",
       "    function loadScript(lib) {\n",
       "      return new Promise(function(resolve, reject) {\n",
       "        var s = document.createElement('script');\n",
       "        s.src = paths[lib];\n",
       "        s.async = true;\n",
       "        s.onload = () => resolve(paths[lib]);\n",
       "        s.onerror = () => reject(`Error loading script: ${paths[lib]}`);\n",
       "        document.getElementsByTagName(\"head\")[0].appendChild(s);\n",
       "      });\n",
       "    }\n",
       "\n",
       "    function showError(err) {\n",
       "      outputDiv.innerHTML = `<div class=\"error\" style=\"color:red;\">${err}</div>`;\n",
       "      throw err;\n",
       "    }\n",
       "\n",
       "    function displayChart(vegaEmbed) {\n",
       "      vegaEmbed(outputDiv, spec, embedOpt)\n",
       "        .catch(err => showError(`Javascript Error: ${err.message}<br>This usually means there's a typo in your chart specification. See the javascript console for the full traceback.`));\n",
       "    }\n",
       "\n",
       "    if(typeof define === \"function\" && define.amd) {\n",
       "      requirejs.config({paths});\n",
       "      require([\"vega-embed\"], displayChart, err => showError(`Error loading script: ${err.message}`));\n",
       "    } else if (typeof vegaEmbed === \"function\") {\n",
       "      displayChart(vegaEmbed);\n",
       "    } else {\n",
       "      loadScript(\"vega\")\n",
       "        .then(() => loadScript(\"vega-lite\"))\n",
       "        .then(() => loadScript(\"vega-embed\"))\n",
       "        .catch(showError)\n",
       "        .then(() => displayChart(vegaEmbed));\n",
       "    }\n",
       "  })({\"config\": {\"view\": {\"continuousWidth\": 400, \"continuousHeight\": 300}}, \"layer\": [{\"data\": {\"name\": \"data-46452a488234f34c96f88d0855df66ec\"}, \"mark\": \"bar\", \"encoding\": {\"color\": {\"type\": \"nominal\", \"field\": \"Color\"}, \"x\": {\"type\": \"quantitative\", \"field\": \"log(omega)\"}, \"y\": {\"type\": \"quantitative\", \"field\": \"proportion\"}}, \"height\": 400, \"title\": \"Eulipotyphla\", \"width\": 500}, {\"data\": {\"name\": \"data-33b0df99be60f40584646af5233ba377\"}, \"mark\": \"bar\", \"encoding\": {\"color\": {\"type\": \"nominal\", \"field\": \"Color\"}, \"x\": {\"type\": \"quantitative\", \"field\": \"log(omega)\"}, \"y\": {\"type\": \"quantitative\", \"field\": \"proportion\"}}, \"height\": 400, \"width\": 500}], \"$schema\": \"https://vega.github.io/schema/vega-lite/v4.8.1.json\", \"datasets\": {\"data-46452a488234f34c96f88d0855df66ec\": [{\"omega\": 0.01943261683843749, \"proportion\": 0.8357569835229536, \"log(omega)\": -1.71146871242288, \"Color\": \"Reference\"}, {\"omega\": 0.4491347953977573, \"proportion\": 0.1579884090461652, \"log(omega)\": -0.3476232979458157, \"Color\": \"Reference\"}, {\"omega\": 141.5100555728674, \"proportion\": 0.006254607430881272, \"log(omega)\": 2.1507873015185757, \"Color\": \"Reference\"}], \"data-33b0df99be60f40584646af5233ba377\": [{\"omega\": 0.1022183770626804, \"proportion\": 0.8720056533425161, \"log(omega)\": -0.9904710186881358, \"Color\": \"Test\"}, {\"omega\": 0.66760242068298, \"proportion\": 0.1279943466574839, \"log(omega)\": -0.1754820972663758, \"Color\": \"Test\"}, {\"omega\": 12.10341419578468, \"proportion\": 0.0, \"log(omega)\": 1.08290789570789, \"Color\": \"Test\"}]}}, {\"mode\": \"vega-lite\"});\n",
       "</script>"
      ],
      "text/plain": [
       "alt.LayerChart(...)"
      ]
     },
     "execution_count": 77,
     "metadata": {},
     "output_type": "execute_result"
    }
   ],
   "source": [
    "# Unconstrained model\n",
    "\n",
    "source = df2_Ref\n",
    "df2_Ref[\"log(omega)\"] = np.log10(df2_Ref[\"omega\"])\n",
    "df2_Ref[\"Color\"] = \"Reference\"\n",
    "\n",
    "line = alt.Chart(source).mark_bar().encode(\n",
    "    x='log(omega)',\n",
    "    y='proportion',\n",
    "    color=\"Color\"\n",
    ").properties(\n",
    "    width=500,\n",
    "    height=400,\n",
    "    title=label\n",
    ")\n",
    "\n",
    "line.configure_title(\n",
    "    fontSize=20,\n",
    "    font='Courier',\n",
    "    anchor='start',\n",
    "    color='gray'\n",
    ")\n",
    "\n",
    "df3_Test[\"log(omega)\"] = np.log10(df3_Test[\"omega\"])\n",
    "df3_Test[\"Color\"] = \"Test\"\n",
    "\n",
    "source = df3_Test\n",
    "\n",
    "line2 = alt.Chart(source).mark_bar().encode(\n",
    "    x='log(omega)',\n",
    "    y='proportion',\n",
    "    color=\"Color\"\n",
    ").properties(\n",
    "    width=500,\n",
    "    height=400)\n",
    "\n",
    "\n",
    "\n",
    "line + line2"
   ]
  },
  {
   "cell_type": "code",
   "execution_count": 20,
   "id": "bd163005-132a-48aa-8fc7-f6272d9ce008",
   "metadata": {},
   "outputs": [],
   "source": [
    "# Process them together as subplots"
   ]
  },
  {
   "cell_type": "code",
   "execution_count": null,
   "id": "6f30ac28-af30-455c-8888-05845f61af35",
   "metadata": {},
   "outputs": [],
   "source": [
    "# RELAX Interpretation\n",
    "# http://hyphy.org/methods/selection-methods/#relax\n",
    "# method paper: https://academic.oup.com/mbe/article/32/3/820/981440\n",
    "\n"
   ]
  },
  {
   "cell_type": "markdown",
   "id": "0543b42e-9357-48cc-873d-40d760f015ac",
   "metadata": {},
   "source": [
    "# Figure legend\n",
    "Patterns of natural selection across taxonomic groups under the Partitioned Descriptive model of the RELAX method. Selection profiles for BDNF are shown along Reference and Test branches for each taxonomic group. Three omega parameters and the relative proportion of sites they represent are plotted for Test (orange) and Referenc (blue) branches. Only omega categories representing nonzero proportions of sites are shown. Neutral selection corresponds to the omega=1.0 in this log10 scaled X-axis. These taxonomic groups represent datasets where significant (p<= 0.05) for relaxed selection was detected between test and reference branches."
   ]
  },
  {
   "cell_type": "markdown",
   "id": "6a1aa3ae-0a7f-44df-87b5-cc21cbbc378f",
   "metadata": {},
   "source": []
  }
 ],
 "metadata": {
  "kernelspec": {
   "display_name": "Python 3",
   "language": "python",
   "name": "python3"
  },
  "language_info": {
   "codemirror_mode": {
    "name": "ipython",
    "version": 3
   },
   "file_extension": ".py",
   "mimetype": "text/x-python",
   "name": "python",
   "nbconvert_exporter": "python",
   "pygments_lexer": "ipython3",
   "version": "3.7.11"
  }
 },
 "nbformat": 4,
 "nbformat_minor": 5
}
