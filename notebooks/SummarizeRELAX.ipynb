{
 "cells": [
  {
   "cell_type": "code",
   "execution_count": 1,
   "id": "f3f53827-6ea8-487f-b0cf-f852cc74564c",
   "metadata": {},
   "outputs": [],
   "source": [
    "import pandas as pd\n",
    "import numpy as np\n",
    "import os\n",
    "import json\n",
    "import altair as alt\n",
    "import numpy as np\n",
    "import glob"
   ]
  },
  {
   "cell_type": "code",
   "execution_count": 6,
   "id": "e209071d-ad8b-45a9-a245-9ed0e5fe04e6",
   "metadata": {},
   "outputs": [],
   "source": [
    "DATA_DIR = \"/Users/user/Documents/GeneInvestigator/results/BDNF/Recombinants\"\n",
    "\n",
    "RELAX_FILES = glob.glob(os.path.join(DATA_DIR, \"*.RELAX.json\"))\n",
    "pvalue_threshold = 0.05"
   ]
  },
  {
   "cell_type": "code",
   "execution_count": 7,
   "id": "a8a50fd4-bef0-48a8-82d9-52fe70cf0409",
   "metadata": {},
   "outputs": [
    {
     "data": {
      "text/plain": [
       "['/Users/user/Documents/GeneInvestigator/results/BDNF/Recombinants/BDNF_codons_RDP_recombinationFree.fas.Carnivora.RELAX.json',\n",
       " '/Users/user/Documents/GeneInvestigator/results/BDNF/Recombinants/BDNF_codons_RDP_recombinationFree.fas.Artiodactyla.RELAX.json',\n",
       " '/Users/user/Documents/GeneInvestigator/results/BDNF/Recombinants/BDNF_codons_RDP_recombinationFree.fas.Chiroptera.RELAX.json',\n",
       " '/Users/user/Documents/GeneInvestigator/results/BDNF/Recombinants/BDNF_codons_RDP_recombinationFree.fas.Primates.RELAX.json',\n",
       " '/Users/user/Documents/GeneInvestigator/results/BDNF/Recombinants/BDNF_codons_RDP_recombinationFree.fas.Glires.RELAX.json',\n",
       " '/Users/user/Documents/GeneInvestigator/results/BDNF/Recombinants/BDNF_codons_RDP_recombinationFree.fas.Eulipotyphla.RELAX.json',\n",
       " '/Users/user/Documents/GeneInvestigator/results/BDNF/Recombinants/BDNF_codons_RDP_recombinationFree.fas.Perissodactyla.RELAX.json']"
      ]
     },
     "execution_count": 7,
     "metadata": {},
     "output_type": "execute_result"
    }
   ],
   "source": [
    "RELAX_FILES"
   ]
  },
  {
   "cell_type": "code",
   "execution_count": 8,
   "id": "5e5d9fd6-b14e-4301-afa5-e3d3c7fc6af0",
   "metadata": {},
   "outputs": [],
   "source": [
    "def getRELAX_TR(JSON):\n",
    "    with open(JSON, \"r\") as in_d:\n",
    "        json_data = json.load(in_d)\n",
    "    return json_data[\"test results\"]\n",
    "\n",
    "def getRELAX_fits(JSON):\n",
    "    with open(JSON, \"r\") as in_d:\n",
    "        json_data = json.load(in_d)\n",
    "    return json_data[\"fits\"]\n"
   ]
  },
  {
   "cell_type": "code",
   "execution_count": 18,
   "id": "413061f2-54a5-46c5-91d7-053337b3d309",
   "metadata": {},
   "outputs": [
    {
     "name": "stdout",
     "output_type": "stream",
     "text": [
      "# Passed p-value threshold: BDNF_codons_RDP_recombinationFree.fas.Carnivora.RELAX.json\n",
      "# Passed p-value threshold: BDNF_codons_RDP_recombinationFree.fas.Primates.RELAX.json\n",
      "# Passed p-value threshold: BDNF_codons_RDP_recombinationFree.fas.Eulipotyphla.RELAX.json\n"
     ]
    }
   ],
   "source": [
    "# Main\n",
    "passedThreshold = []\n",
    "\n",
    "for file in RELAX_FILES:\n",
    "    pval = getRELAX_TR(file)[\"p-value\"]\n",
    "    if pval <= pvalue_threshold:\n",
    "        passedThreshold.append(file)\n",
    "        print(\"# Passed p-value threshold:\", file.split(\"/\")[-1])\n"
   ]
  },
  {
   "cell_type": "code",
   "execution_count": 21,
   "id": "e4db0e44-1aef-4023-a5cf-8c502ae3b24b",
   "metadata": {},
   "outputs": [],
   "source": [
    "# Process them separately"
   ]
  },
  {
   "cell_type": "code",
   "execution_count": 20,
   "id": "bd163005-132a-48aa-8fc7-f6272d9ce008",
   "metadata": {},
   "outputs": [],
   "source": [
    "# Process them together as subplots"
   ]
  },
  {
   "cell_type": "code",
   "execution_count": null,
   "id": "6f30ac28-af30-455c-8888-05845f61af35",
   "metadata": {},
   "outputs": [],
   "source": []
  }
 ],
 "metadata": {
  "kernelspec": {
   "display_name": "Python 3",
   "language": "python",
   "name": "python3"
  },
  "language_info": {
   "codemirror_mode": {
    "name": "ipython",
    "version": 3
   },
   "file_extension": ".py",
   "mimetype": "text/x-python",
   "name": "python",
   "nbconvert_exporter": "python",
   "pygments_lexer": "ipython3",
   "version": "3.7.11"
  }
 },
 "nbformat": 4,
 "nbformat_minor": 5
}
