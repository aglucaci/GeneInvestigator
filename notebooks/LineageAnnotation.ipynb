{
 "cells": [
  {
   "cell_type": "code",
   "execution_count": 106,
   "id": "2970a8aa",
   "metadata": {},
   "outputs": [],
   "source": [
    "# Imports\n",
    "import sys, os\n",
    "from Bio import Entrez\n",
    "import json\n",
    "from ete3 import NCBITaxa\n",
    "import pandas as pd"
   ]
  },
  {
   "cell_type": "code",
   "execution_count": 107,
   "id": "cae27eef",
   "metadata": {},
   "outputs": [],
   "source": [
    "# Declares\n",
    "#CSV_FILE = \"../data/TP53_orthologs.csv\"\n",
    "CSV_FILE = sys.argv[1]\n",
    "DATA_DICT = {}\n",
    "# The following looks up NCBI Taxon ID from Accession IDs\n",
    "# Then uses that Taxon ID to get the complete taxnomic lineage of of that species.\n",
    "Entrez.email = \"aglucaci@gmail.com\"\n"
   ]
  },
  {
   "cell_type": "code",
   "execution_count": 108,
   "id": "9489bb68",
   "metadata": {},
   "outputs": [],
   "source": [
    "#TREE_FILE = \"../results/TP53/TP53_codons.fasta.treefile\"\n",
    "\n",
    "TREE_FILE = sys.argv[2]\n",
    "with open(TREE_FILE, \"r\") as fh:\n",
    "    TREE_NEWICK = fh.read()\n",
    "#end with"
   ]
  },
  {
   "cell_type": "code",
   "execution_count": 109,
   "id": "ae947ac4",
   "metadata": {},
   "outputs": [],
   "source": [
    "df = pd.read_csv(CSV_FILE)\n",
    "#df.index += 1\n",
    "#df"
   ]
  },
  {
   "cell_type": "code",
   "execution_count": 110,
   "id": "b7209052",
   "metadata": {},
   "outputs": [],
   "source": [
    "transcript_accessions = df['RefSeq Transcript accessions'].tolist()\n",
    "#len(transcript_accessions)"
   ]
  },
  {
   "cell_type": "code",
   "execution_count": 111,
   "id": "7c521870",
   "metadata": {},
   "outputs": [],
   "source": [
    "# Helper function\n",
    "def match_transcript_to_tree(TREE_NEWICK, accession):\n",
    "    t = Tree(TREE_NEWICK, format=1);\n",
    "    for leafname in t.get_leaf_names():\n",
    "        if accession in leafname:\n",
    "            return leafname\n",
    "        #end if\n",
    "    #end for\n",
    "#end match\n",
    "    "
   ]
  },
  {
   "cell_type": "code",
   "execution_count": null,
   "id": "a29a8695",
   "metadata": {},
   "outputs": [
    {
     "name": "stdout",
     "output_type": "stream",
     "text": [
      "# 1 Processing transcript accession: NM_000546.6 with NCBI Taxon ID: 9606\n",
      "# 2 Processing transcript accession: NM_011640.3 with NCBI Taxon ID: 10090\n",
      "# 3 Processing transcript accession: NM_030989.3 with NCBI Taxon ID: 10116\n",
      "# 4 Processing transcript accession: NM_001271820.1 with NCBI Taxon ID: 7955\n",
      "# 5 Processing transcript accession: NM_174201.2 with NCBI Taxon ID: 9913\n",
      "# 6 Processing transcript accession: NM_205264.1 with NCBI Taxon ID: 9031\n",
      "# 7 Processing transcript accession: NM_213824.3 with NCBI Taxon ID: 9823\n",
      "# 8 Processing transcript accession: NM_001389218.1 with NCBI Taxon ID: 9615\n",
      "# 9 Processing transcript accession: NM_001001903.1 with NCBI Taxon ID: 8364\n",
      "# 10 Processing transcript accession: NM_001009403.1 with NCBI Taxon ID: 9940\n",
      "# 11 Processing transcript accession: XM_016931470.2 with NCBI Taxon ID: 9598\n",
      "# 12 Processing transcript accession: NM_001009294.1 with NCBI Taxon ID: 9685\n",
      "# 13 Processing transcript accession: XM_007483356.1 with NCBI Taxon ID: 13616\n",
      "# 14 Processing transcript accession: NM_001047151.2 with NCBI Taxon ID: 9544\n",
      "# 15 Processing transcript accession: XM_008270660.2 with NCBI Taxon ID: 9986\n",
      "# 16 Processing transcript accession: NM_001104742.1 with NCBI Taxon ID: 8090\n",
      "# 17 Processing transcript accession: NM_001202405.1 with NCBI Taxon ID: 9796\n",
      "# 18 Processing transcript accession: XM_029056307.2 with NCBI Taxon ID: 9258\n",
      "# 19 Processing transcript accession: NM_001124692.1 with NCBI Taxon ID: 8022\n",
      "# 20 Processing transcript accession: NM_001200076.1 with NCBI Taxon ID: 7998\n",
      "# 21 Processing transcript accession: NM_001172740.1 with NCBI Taxon ID: 10141\n",
      "# 22 Processing transcript accession: XM_002747948.4 with NCBI Taxon ID: 9483\n",
      "# 23 Processing transcript accession: XM_002826974.4 with NCBI Taxon ID: 9601\n",
      "# 24 Processing transcript accession: XM_002924437.4 with NCBI Taxon ID: 9646\n",
      "# 25 Processing transcript accession: XM_030800485.1 with NCBI Taxon ID: 61853\n",
      "# 26 Processing transcript accession: XM_003416902.3 with NCBI Taxon ID: 9785\n",
      "# 27 Processing transcript accession: NM_001243976.1 with NCBI Taxon ID: 10029\n",
      "# 28 Processing transcript accession: XM_025905404.1 with NCBI Taxon ID: 8128\n",
      "# 29 Processing transcript accession: XM_031965443.1 with NCBI Taxon ID: 9305\n",
      "# 30 Processing transcript accession: XM_012806041.2 with NCBI Taxon ID: 30611\n",
      "# 31 Processing transcript accession: XM_003810066.3 with NCBI Taxon ID: 9597\n",
      "# 32 Processing transcript accession: XM_003912272.5 with NCBI Taxon ID: 9555\n",
      "# 33 Processing transcript accession: XM_039476036.1 with NCBI Taxon ID: 39432\n",
      "# 34 Processing transcript accession: XM_003966884.3 with NCBI Taxon ID: 31033\n",
      "# 35 Processing transcript accession: XM_019013136.2 with NCBI Taxon ID: 9595\n",
      "# 36 Processing transcript accession: XM_033422971.1 with NCBI Taxon ID: 9733\n",
      "# 37 Processing transcript accession: XM_033848569.1 with NCBI Taxon ID: 9739\n",
      "# 38 Processing transcript accession: XM_004376021.2 with NCBI Taxon ID: 127582\n",
      "# 39 Processing transcript accession: XM_004398491.1 with NCBI Taxon ID: 9708\n",
      "# 40 Processing transcript accession: XM_014789552.1 with NCBI Taxon ID: 73337\n",
      "# 41 Processing transcript accession: XM_012529092.2 with NCBI Taxon ID: 9361\n",
      "# 42 Processing transcript accession: XM_004571176.4 with NCBI Taxon ID: 106582\n",
      "# 43 Processing transcript accession: XM_004594783.1 with NCBI Taxon ID: 9978\n",
      "# 44 Processing transcript accession: XM_004604858.1 with NCBI Taxon ID: 42254\n",
      "# 45 Processing transcript accession: XM_004638424.2 with NCBI Taxon ID: 10160\n",
      "# 46 Processing transcript accession: XM_004669213.1 with NCBI Taxon ID: 51337\n",
      "# 47 Processing transcript accession: XM_004684639.2 with NCBI Taxon ID: 143302\n",
      "# 48 Processing transcript accession: XM_013007322.2 with NCBI Taxon ID: 9371\n",
      "# 49 Processing transcript accession: XM_004760256.2 with NCBI Taxon ID: 9669\n",
      "# 50 Processing transcript accession: NM_001310270.1 with NCBI Taxon ID: 10181\n",
      "# 51 Processing transcript accession: NM_001281661.1 with NCBI Taxon ID: 10036\n",
      "# 52 Processing transcript accession: XM_005279339.2 with NCBI Taxon ID: 8478\n",
      "# 53 Processing transcript accession: XM_005332819.4 with NCBI Taxon ID: 43179\n",
      "# 54 Processing transcript accession: XM_005349777.1 with NCBI Taxon ID: 79684\n",
      "# 55 Processing transcript accession: XM_005399463.2 with NCBI Taxon ID: 34839\n",
      "# 56 Processing transcript accession: XM_014261886.1 with NCBI Taxon ID: 181119\n",
      "# 57 Processing transcript accession: NM_001287679.1 with NCBI Taxon ID: 9541\n",
      "# 58 Processing transcript accession: XM_005693530.3 with NCBI Taxon ID: 9925\n",
      "# 59 Processing transcript accession: XM_005749774.1 with NCBI Taxon ID: 303518\n",
      "# 60 Processing transcript accession: NM_001286289.1 with NCBI Taxon ID: 8083\n",
      "# 61 Processing transcript accession: XM_014549841.1 with NCBI Taxon ID: 109478\n",
      "# 62 Processing transcript accession: XM_005894802.2 with NCBI Taxon ID: 72004\n",
      "# 63 Processing transcript accession: XM_005939677.2 with NCBI Taxon ID: 8153\n",
      "# 64 Processing transcript accession: XM_025195179.1 with NCBI Taxon ID: 38654\n",
      "# 65 Processing transcript accession: NM_001290844.2 with NCBI Taxon ID: 89462\n",
      "# 66 Processing transcript accession: XM_023743933.1 with NCBI Taxon ID: 59463\n",
      "# 67 Processing transcript accession: XM_006112136.3 with NCBI Taxon ID: 13735\n",
      "# 68 Processing transcript accession: NM_001287369.1 with NCBI Taxon ID: 246437\n",
      "# 69 Processing transcript accession: XM_006175816.3 with NCBI Taxon ID: 419612\n",
      "# 70 Processing transcript accession: XM_006218777.3 with NCBI Taxon ID: 30538\n",
      "# 71 Processing transcript accession: XM_006261004.3 with NCBI Taxon ID: 8496\n",
      "# 72 Processing transcript accession: XM_015340733.1 with NCBI Taxon ID: 7918\n",
      "# 73 Processing transcript accession: XM_006738887.2 with NCBI Taxon ID: 9713\n",
      "# 74 Processing transcript accession: XM_015562573.1 with NCBI Taxon ID: 225400\n",
      "# 75 Processing transcript accession: XM_006807693.2 with NCBI Taxon ID: 32507\n",
      "# 76 Processing transcript accession: XM_006863387.1 with NCBI Taxon ID: 185453\n",
      "# 77 Processing transcript accession: XM_006899135.1 with NCBI Taxon ID: 28737\n",
      "# 78 Processing transcript accession: XM_006922335.3 with NCBI Taxon ID: 9402\n",
      "# 79 Processing transcript accession: XM_015992323.1 with NCBI Taxon ID: 230844\n",
      "# 80 Processing transcript accession: XM_037887251.1 with NCBI Taxon ID: 8469\n",
      "# 81 Processing transcript accession: XM_015541817.1 with NCBI Taxon ID: 74533\n",
      "# 82 Processing transcript accession: XM_028499408.1 with NCBI Taxon ID: 9755\n",
      "# 83 Processing transcript accession: XM_007166385.1 with NCBI Taxon ID: 310752\n"
     ]
    }
   ],
   "source": [
    "def main(transcript_accessions):\n",
    "    #DATA_DICT = {}\n",
    "    global DATA_DICT\n",
    "    count = 1\n",
    "    for ACCESSION in transcript_accessions:\n",
    "        #print(\"# Checking ACCESION:\", ACCESSION)\n",
    "        skip = False\n",
    "        for i in DATA_DICT.keys():\n",
    "            if ACCESSION == DATA_DICT[i][\"ACCESSION\"]:\n",
    "                skip = True\n",
    "                break\n",
    "            #end if\n",
    "        #end for\n",
    "        if skip == True: \n",
    "            count += 1\n",
    "            continue\n",
    "        #end if\n",
    "        \n",
    "        try:\n",
    "            handle = Entrez.esummary(db=\"nucleotide\", id=ACCESSION, rettype=\"gb\", retmode=\"text\", retmax=1)\n",
    "            records = Entrez.parse(handle)\n",
    "        except:\n",
    "            print(\"# error, sleeping\")\n",
    "            time.sleep(5)\n",
    "            handle = Entrez.esummary(db=\"nucleotide\", id=ACCESSION, rettype=\"gb\", retmode=\"text\", retmax=1)\n",
    "            records = Entrez.parse(handle)\n",
    "        #end try\n",
    "        \n",
    "        try:\n",
    "            for record in records:\n",
    "                TAXON_ID = record[\"TaxId\"]\n",
    "                print(\"#\", count, \"Processing transcript accession:\", str(ACCESSION), \"with NCBI Taxon ID:\", str(TAXON_ID))\n",
    "                ncbi = NCBITaxa()\n",
    "                lineage = ncbi.get_lineage(TAXON_ID)\n",
    "                #print(lineage)\n",
    "                names = ncbi.get_taxid_translator(lineage)\n",
    "                \n",
    "                leafname = match_transcript_to_tree(TREE_NEWICK, ACCESSION.replace(\".\", \"_\"))\n",
    "                \n",
    "                DATA_DICT[str(count)] = {\"ACCESSION\":ACCESSION, \"TAXON_ID\": TAXON_ID, \"LINEAGE\": [names[taxid] for taxid in lineage], \"TITLE\":record[\"Title\"], \"LEAFNAME\": leafname}\n",
    "                count += 1\n",
    "            #end inner for\n",
    "            handle.close\n",
    "        except:\n",
    "            print(\"Error, retrying:\", ACCESSION)\n",
    "            #main(TREE_NEWICK) # Recursive.\n",
    "        #end try\n",
    "    #end outer for\n",
    "    #return DATA_DICT\n",
    "#end method\n",
    "\n"
   ]
  },
  {
   "cell_type": "code",
   "execution_count": null,
   "id": "f18ccfec",
   "metadata": {},
   "outputs": [],
   "source": [
    "main(transcript_accessions)"
   ]
  },
  {
   "cell_type": "code",
   "execution_count": null,
   "id": "80b87b48",
   "metadata": {},
   "outputs": [],
   "source": [
    "# Check for errors here\n",
    "#len(transcript_accessions)\n",
    "#len(DATA_DICT.keys())\n",
    "# They need to match"
   ]
  },
  {
   "cell_type": "code",
   "execution_count": null,
   "id": "47137309",
   "metadata": {},
   "outputs": [],
   "source": [
    "df2 = pd.DataFrame.from_dict(DATA_DICT, orient=\"index\")\n",
    "#df2"
   ]
  },
  {
   "cell_type": "code",
   "execution_count": null,
   "id": "82303212",
   "metadata": {},
   "outputs": [],
   "source": [
    "lineages = df2['LINEAGE'].tolist()\n",
    "\n",
    "for i in range(len(lineages[0])):\n",
    "    to_add = []\n",
    "    for species in lineages:\n",
    "        to_add.append(species[i])\n",
    "    #end inner for\n",
    "    df2[\"Annotation\"] = to_add\n",
    "    a = df2[\"Annotation\"].nunique()\n",
    "    if a > 5: break\n",
    "    #print(i, df2[\"Annotation\"].nunique())\n",
    "#end outer for\n",
    "        \n",
    "    \n",
    "    "
   ]
  },
  {
   "cell_type": "code",
   "execution_count": null,
   "id": "df85fe5f",
   "metadata": {},
   "outputs": [],
   "source": [
    "for item in set(df2[\"Annotation\"].to_list()):\n",
    "    #print(item)\n",
    "    df3 = df2[df2[\"Annotation\"] == item]\n",
    "    #print(df3)\n",
    "    \n",
    "    df3 = df3.dropna()\n",
    "    \n",
    "    #print(df3[\"LEAFNAME\"].to_list())\n",
    "    df3.to_csv(item + \".csv\", index=True)\n",
    "    \n",
    "    print(\"# Saving to:\", item + \".txt\" )\n",
    "    with open(item + \".txt\", \"w\") as fh:\n",
    "        fh.write(\"\\n\".join(df3[\"LEAFNAME\"].to_list()))\n",
    "        #for row in df3[\"LEAFNAME\"].to_list():\n",
    "        #    fh.write(row)"
   ]
  },
  {
   "cell_type": "code",
   "execution_count": null,
   "id": "25566f1d",
   "metadata": {},
   "outputs": [],
   "source": [
    "# There may be errors above, some LEAFNAMEs do not populate. Check the search for subroutine to make sure it works."
   ]
  }
 ],
 "metadata": {
  "kernelspec": {
   "display_name": "Python 3",
   "language": "python",
   "name": "python3"
  },
  "language_info": {
   "codemirror_mode": {
    "name": "ipython",
    "version": 3
   },
   "file_extension": ".py",
   "mimetype": "text/x-python",
   "name": "python",
   "nbconvert_exporter": "python",
   "pygments_lexer": "ipython3",
   "version": "3.7.11"
  }
 },
 "nbformat": 4,
 "nbformat_minor": 5
}
