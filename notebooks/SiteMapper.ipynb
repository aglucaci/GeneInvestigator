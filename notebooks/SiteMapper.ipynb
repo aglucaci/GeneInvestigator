{
 "cells": [
  {
   "cell_type": "code",
   "execution_count": 6,
   "id": "8ee994eb-d454-496a-90b5-35ac60bb060d",
   "metadata": {},
   "outputs": [],
   "source": [
    "# Imports\n",
    "import pandas as pd\n",
    "from pandas.plotting import scatter_matrix\n",
    "import random\n",
    "from matplotlib import pyplot as plt\n",
    "import itertools\n",
    "import numpy as np\n",
    "from matplotlib.pyplot import figure\n",
    "from Bio.Seq import Seq\n",
    "from Bio import SeqIO\n",
    "from Bio.SeqRecord import SeqRecord"
   ]
  },
  {
   "cell_type": "code",
   "execution_count": 15,
   "id": "28a1d54d-8268-4a97-b92d-e5662fca97c9",
   "metadata": {},
   "outputs": [],
   "source": [
    "#NM_001709_5_Homo_sapiens_brain_derived_neurotrophi\n",
    "#HUMAN_ID = \"XM_011520280.2\" # hard-coded.\n",
    "HUMAN_ID = \"NM_001709_5_Homo_sapiens_brain_derived_neurotrophi\""
   ]
  },
  {
   "cell_type": "code",
   "execution_count": 10,
   "id": "d42d4433-df9c-4c93-9729-6a5b20a57251",
   "metadata": {},
   "outputs": [],
   "source": [
    " def process_sites(input_file):                                # generally initalizes the class.\n",
    "    fasta_sequence = SeqIO.parse(open(input_file),'fasta')\n",
    "    fasta_dict = {}                                                   #init\n",
    "    for record in fasta_sequence:                                     #loops over each species\n",
    "        ID, SEQ, site_count, nt_num = record.id, record.seq, 1, 0\n",
    "        fasta_dict[ID] = {}                                             #init\n",
    "        while SEQ[nt_num:nt_num+3]:                                     # loop over codons\n",
    "            codon = str(SEQ[nt_num:nt_num+3])\n",
    "            fasta_dict[ID][site_count] = codon\n",
    "            site_count += 1\n",
    "            nt_num += 3\n",
    "         #end while\n",
    "    #end for\n",
    "    return fasta_dict\n",
    "#end method"
   ]
  },
  {
   "cell_type": "code",
   "execution_count": 12,
   "id": "f83c10cf-5527-4f71-8b1a-4fe25ed11528",
   "metadata": {},
   "outputs": [],
   "source": [
    "FASTA = \"../results/BDNF/Recombinants/BDNF_codons_RDP_recombinationFree.fas\"\n",
    "\n",
    "a = process_sites(FASTA)"
   ]
  },
  {
   "cell_type": "code",
   "execution_count": 16,
   "id": "38d0c667-91ea-4aac-a0b3-7a6e2457de90",
   "metadata": {},
   "outputs": [],
   "source": [
    "# The alignment is from 1 to N\n",
    "# The human sequence is a discontinuous list of integers from i to j\n",
    "MAP_ALIGNMENT_TO_HUMAN = []\n",
    "\n",
    "for site in a[HUMAN_ID].keys():\n",
    "    codon = a[HUMAN_ID][site]\n",
    "    if codon != \"---\":\n",
    "        #print(site, codon)\n",
    "        MAP_ALIGNMENT_TO_HUMAN.append(site)\n",
    "    #end if\n",
    "#end for"
   ]
  },
  {
   "cell_type": "code",
   "execution_count": 22,
   "id": "4dc69d08-04fa-4b0e-8ba4-837d336f9f53",
   "metadata": {},
   "outputs": [],
   "source": [
    "output_dict = {}\n",
    "\n",
    "A = []\n",
    "B = []\n",
    "for n, item in enumerate(MAP_ALIGNMENT_TO_HUMAN):\n",
    "    #print(n+1, item)\n",
    "    #output_dict[n+1] = item\n",
    "    A.append(n+1)\n",
    "    B.append(item)\n",
    "output_dict[\"HumanBDNFSite\"] = A\n",
    "output_dict[\"AlignmentSite\"] = B"
   ]
  },
  {
   "cell_type": "code",
   "execution_count": 25,
   "id": "3e545702-b5fb-47c0-8057-50b7f2760ab2",
   "metadata": {},
   "outputs": [
    {
     "data": {
      "text/html": [
       "<div>\n",
       "<style scoped>\n",
       "    .dataframe tbody tr th:only-of-type {\n",
       "        vertical-align: middle;\n",
       "    }\n",
       "\n",
       "    .dataframe tbody tr th {\n",
       "        vertical-align: top;\n",
       "    }\n",
       "\n",
       "    .dataframe thead th {\n",
       "        text-align: right;\n",
       "    }\n",
       "</style>\n",
       "<table border=\"1\" class=\"dataframe\">\n",
       "  <thead>\n",
       "    <tr style=\"text-align: right;\">\n",
       "      <th></th>\n",
       "      <th>HumanBDNFSite</th>\n",
       "      <th>AlignmentSite</th>\n",
       "    </tr>\n",
       "  </thead>\n",
       "  <tbody>\n",
       "    <tr>\n",
       "      <th>0</th>\n",
       "      <td>1</td>\n",
       "      <td>190</td>\n",
       "    </tr>\n",
       "    <tr>\n",
       "      <th>1</th>\n",
       "      <td>2</td>\n",
       "      <td>191</td>\n",
       "    </tr>\n",
       "    <tr>\n",
       "      <th>2</th>\n",
       "      <td>3</td>\n",
       "      <td>192</td>\n",
       "    </tr>\n",
       "    <tr>\n",
       "      <th>3</th>\n",
       "      <td>4</td>\n",
       "      <td>193</td>\n",
       "    </tr>\n",
       "    <tr>\n",
       "      <th>4</th>\n",
       "      <td>5</td>\n",
       "      <td>194</td>\n",
       "    </tr>\n",
       "    <tr>\n",
       "      <th>...</th>\n",
       "      <td>...</td>\n",
       "      <td>...</td>\n",
       "    </tr>\n",
       "    <tr>\n",
       "      <th>242</th>\n",
       "      <td>243</td>\n",
       "      <td>445</td>\n",
       "    </tr>\n",
       "    <tr>\n",
       "      <th>243</th>\n",
       "      <td>244</td>\n",
       "      <td>446</td>\n",
       "    </tr>\n",
       "    <tr>\n",
       "      <th>244</th>\n",
       "      <td>245</td>\n",
       "      <td>447</td>\n",
       "    </tr>\n",
       "    <tr>\n",
       "      <th>245</th>\n",
       "      <td>246</td>\n",
       "      <td>448</td>\n",
       "    </tr>\n",
       "    <tr>\n",
       "      <th>246</th>\n",
       "      <td>247</td>\n",
       "      <td>449</td>\n",
       "    </tr>\n",
       "  </tbody>\n",
       "</table>\n",
       "<p>247 rows × 2 columns</p>\n",
       "</div>"
      ],
      "text/plain": [
       "     HumanBDNFSite  AlignmentSite\n",
       "0                1            190\n",
       "1                2            191\n",
       "2                3            192\n",
       "3                4            193\n",
       "4                5            194\n",
       "..             ...            ...\n",
       "242            243            445\n",
       "243            244            446\n",
       "244            245            447\n",
       "245            246            448\n",
       "246            247            449\n",
       "\n",
       "[247 rows x 2 columns]"
      ]
     },
     "execution_count": 25,
     "metadata": {},
     "output_type": "execute_result"
    }
   ],
   "source": [
    "# Human site number, alignment site number\n",
    "output_dict\n",
    "\n",
    "df = pd.DataFrame.from_dict(output_dict)\n",
    "df"
   ]
  },
  {
   "cell_type": "code",
   "execution_count": 26,
   "id": "e3ba5084-1807-4e71-b137-7179565116b7",
   "metadata": {},
   "outputs": [],
   "source": [
    "df.to_csv(\"BDNF_AlignmentMap.csv\", index=False)"
   ]
  },
  {
   "cell_type": "code",
   "execution_count": null,
   "id": "75253f61-515e-4936-8ad9-923354910d38",
   "metadata": {},
   "outputs": [],
   "source": []
  }
 ],
 "metadata": {
  "kernelspec": {
   "display_name": "Python 3",
   "language": "python",
   "name": "python3"
  },
  "language_info": {
   "codemirror_mode": {
    "name": "ipython",
    "version": 3
   },
   "file_extension": ".py",
   "mimetype": "text/x-python",
   "name": "python",
   "nbconvert_exporter": "python",
   "pygments_lexer": "ipython3",
   "version": "3.7.11"
  }
 },
 "nbformat": 4,
 "nbformat_minor": 5
}
